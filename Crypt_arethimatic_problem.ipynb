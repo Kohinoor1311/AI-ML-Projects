{
 "cells": [
  {
   "cell_type": "code",
   "execution_count": null,
   "id": "1eb9fbcc",
   "metadata": {},
   "outputs": [],
   "source": [
    "pip install python-constraint"
   ]
  },
  {
   "cell_type": "code",
   "execution_count": 1,
   "id": "a33923e6",
   "metadata": {},
   "outputs": [],
   "source": [
    "\n",
    "from constraint import Problem, AllDifferentConstraint"
   ]
  },
  {
   "cell_type": "code",
   "execution_count": 2,
   "id": "e49da988",
   "metadata": {},
   "outputs": [],
   "source": [
    "def CryptArithemeticSolver():\n",
    "    problem = Problem()\n",
    "    \n",
    "    #SEND + MORE = MONEY\n",
    "    letters = [\"S\",'E','N','D','M','O','R','Y']\n",
    "    \n",
    "    problem.addVariables(letters, range(10))\n",
    "    \n",
    "    problem.addConstraint(AllDifferentConstraint(),letters)\n",
    "    \n",
    "    problem.addConstraint(lambda S, M : S != 0 and M != 0, (\"S\",\"M\"))\n",
    "    \n",
    "    problem.addConstraint(lambda S, E, N, D, M, O, R, Y : 1000*S + 100*E + 10*N + D +\n",
    "                         1000*M + 100*O + 10*R + E ==\n",
    "                         10000*M + 1000*O + 100*N +10*E +Y,\n",
    "                         letters)\n",
    "    \n",
    "    solutions = problem.getSolutions()\n",
    "    return solutions"
   ]
  },
  {
   "cell_type": "code",
   "execution_count": 3,
   "id": "48cf4064",
   "metadata": {},
   "outputs": [
    {
     "data": {
      "text/plain": [
       "[{'M': 1, 'S': 9, 'D': 7, 'E': 5, 'N': 6, 'O': 0, 'R': 8, 'Y': 2}]"
      ]
     },
     "execution_count": 3,
     "metadata": {},
     "output_type": "execute_result"
    }
   ],
   "source": [
    "CryptArithemeticSolver()"
   ]
  },
  {
   "cell_type": "code",
   "execution_count": 4,
   "id": "6dba68c6",
   "metadata": {},
   "outputs": [],
   "source": [
    "def CryptArithemeticSolver1():\n",
    "    problem = Problem()\n",
    "    \n",
    "    #BASE + BALL = GAMES\n",
    "    letters = [\"B\",'A','S','E','L','G','M']\n",
    "    \n",
    "    problem.addVariables(letters, range(10))\n",
    "    \n",
    "    problem.addConstraint(AllDifferentConstraint(),letters)\n",
    "    \n",
    "    problem.addConstraint(lambda B, G : B != 0 and G != 0, (\"B\",\"G\"))\n",
    "    \n",
    "    problem.addConstraint(lambda B, A, S, E, L, G, M : 1000*B + 100*A + 10*S + E +\n",
    "                         1000*B + 100*A + 10*L + L ==\n",
    "                         10000*G + 1000*A + 100*M +10*E +S,\n",
    "                         letters)\n",
    "    \n",
    "    solutions = problem.getSolutions()\n",
    "    return solutions"
   ]
  },
  {
   "cell_type": "code",
   "execution_count": 5,
   "id": "bec6303f",
   "metadata": {},
   "outputs": [
    {
     "data": {
      "text/plain": [
       "[{'B': 7, 'G': 1, 'A': 4, 'E': 3, 'L': 5, 'M': 9, 'S': 8}]"
      ]
     },
     "execution_count": 5,
     "metadata": {},
     "output_type": "execute_result"
    }
   ],
   "source": [
    "CryptArithemeticSolver1()"
   ]
  },
  {
   "cell_type": "code",
   "execution_count": 8,
   "id": "c1b6dcf2",
   "metadata": {},
   "outputs": [],
   "source": [
    "def CryptArithemeticSolver2():\n",
    "    problem = Problem()\n",
    "    \n",
    "    #POINT + ZERO = ENERGY\n",
    "    letters = [\"P\",'O','I','N','T','Z','E','R','G','Y']\n",
    "    \n",
    "    problem.addVariables(letters, range(10))\n",
    "    \n",
    "    problem.addConstraint(AllDifferentConstraint(),letters)\n",
    "    \n",
    "    problem.addConstraint(lambda P, Z, E : P != 0 and Z != 0 and E != 0, (\"P\",\"Z\",\"E\"))\n",
    "    \n",
    "    problem.addConstraint(lambda P, O, I, N, T, Z, E, R, G, Y : 10000*P + 1000*O + 100*I + 10*N + T +\n",
    "                         1000*Z + 100*E + 10*R + O ==\n",
    "                         100000*E + 10000*N + 1000*E +100*R +10*G + Y,\n",
    "                         letters)\n",
    "    \n",
    "    solutions = problem.getSolutions()\n",
    "    return solutions"
   ]
  },
  {
   "cell_type": "code",
   "execution_count": 9,
   "id": "76033d34",
   "metadata": {},
   "outputs": [
    {
     "data": {
      "text/plain": [
       "[{'E': 1,\n",
       "  'P': 9,\n",
       "  'Z': 3,\n",
       "  'G': 7,\n",
       "  'I': 5,\n",
       "  'N': 0,\n",
       "  'O': 8,\n",
       "  'R': 6,\n",
       "  'T': 4,\n",
       "  'Y': 2}]"
      ]
     },
     "execution_count": 9,
     "metadata": {},
     "output_type": "execute_result"
    }
   ],
   "source": [
    "CryptArithemeticSolver2()"
   ]
  },
  {
   "cell_type": "code",
   "execution_count": null,
   "id": "3d6e9039",
   "metadata": {},
   "outputs": [],
   "source": []
  }
 ],
 "metadata": {
  "kernelspec": {
   "display_name": "Python 3 (ipykernel)",
   "language": "python",
   "name": "python3"
  },
  "language_info": {
   "codemirror_mode": {
    "name": "ipython",
    "version": 3
   },
   "file_extension": ".py",
   "mimetype": "text/x-python",
   "name": "python",
   "nbconvert_exporter": "python",
   "pygments_lexer": "ipython3",
   "version": "3.10.9"
  }
 },
 "nbformat": 4,
 "nbformat_minor": 5
}

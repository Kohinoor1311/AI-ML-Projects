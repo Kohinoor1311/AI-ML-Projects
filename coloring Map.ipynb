{
 "cells": [
  {
   "cell_type": "code",
   "execution_count": 1,
   "id": "22583ebb",
   "metadata": {},
   "outputs": [
    {
     "name": "stdout",
     "output_type": "stream",
     "text": [
      "Collecting python-constraint\n",
      "  Using cached python-constraint-1.4.0.tar.bz2 (18 kB)\n",
      "  Preparing metadata (setup.py) ... \u001b[?25ldone\n",
      "\u001b[?25hBuilding wheels for collected packages: python-constraint\n",
      "  Building wheel for python-constraint (setup.py) ... \u001b[?25ldone\n",
      "\u001b[?25h  Created wheel for python-constraint: filename=python_constraint-1.4.0-py2.py3-none-any.whl size=24057 sha256=a8f8abdc8b341647fdbe1ddd9ca252afbcabc68c8dbb73056a806c8e4b904c83\n",
      "  Stored in directory: /Users/kohinoorsuthar/Library/Caches/pip/wheels/2e/f2/2b/cb08b5fe129e4f69b7033061f256e5c551b0aa1160c2872aee\n",
      "Successfully built python-constraint\n",
      "Installing collected packages: python-constraint\n",
      "Successfully installed python-constraint-1.4.0\n",
      "Note: you may need to restart the kernel to use updated packages.\n"
     ]
    }
   ],
   "source": [
    "pip install python-constraint"
   ]
  },
  {
   "cell_type": "code",
   "execution_count": 2,
   "id": "51e39178",
   "metadata": {},
   "outputs": [],
   "source": [
    "from constraint import Problem, AllDifferentConstraint"
   ]
  },
  {
   "cell_type": "code",
   "execution_count": 3,
   "id": "991f0230",
   "metadata": {},
   "outputs": [],
   "source": [
    "def map_coloringProblem():\n",
    "    problem = Problem()\n",
    "    \n",
    "    division = [\"Aurangabad\",\"Nashik\", \"Amravati\", \"Nagpur\",\"Pune\",\"Konkan\"]\n",
    "    \n",
    "    colors = [\"Red\",\"Green\",\"Blue\"]\n",
    "    \n",
    "    problem.addVariables(division, colors)\n",
    "    \n",
    "    const = [(\"Aurangabad\", \"Pune\"),(\"Aurangabad\",\"Nashik\"),(\"Aurangabad\", \"Amravati\"),\n",
    "            (\"Nashik\",\"Pune\"),(\"Nashik\",\"Konkan\"),(\"Nashik\",\"Amravati\"),\n",
    "            (\"Nagpur\",\"Amravati\"),(\"Pune\",\"Konkan\")]\n",
    "    \n",
    "    for div_pair in const:\n",
    "        problem.addConstraint(lambda x,y: x!= y,div_pair)\n",
    "        \n",
    "    solution = problem.getSolutions()\n",
    "    \n",
    "    return solution\n",
    "    "
   ]
  },
  {
   "cell_type": "code",
   "execution_count": 4,
   "id": "fd21edce",
   "metadata": {},
   "outputs": [],
   "source": [
    "solver = map_coloringProblem()"
   ]
  },
  {
   "cell_type": "code",
   "execution_count": 5,
   "id": "b8f002b1",
   "metadata": {},
   "outputs": [
    {
     "name": "stdout",
     "output_type": "stream",
     "text": [
      "Solution 1: {'Nashik': 'Blue', 'Amravati': 'Green', 'Aurangabad': 'Red', 'Pune': 'Green', 'Konkan': 'Red', 'Nagpur': 'Blue'}\n",
      "Solution 2: {'Nashik': 'Blue', 'Amravati': 'Green', 'Aurangabad': 'Red', 'Pune': 'Green', 'Konkan': 'Red', 'Nagpur': 'Red'}\n",
      "Solution 3: {'Nashik': 'Blue', 'Amravati': 'Red', 'Aurangabad': 'Green', 'Pune': 'Red', 'Konkan': 'Green', 'Nagpur': 'Green'}\n",
      "Solution 4: {'Nashik': 'Blue', 'Amravati': 'Red', 'Aurangabad': 'Green', 'Pune': 'Red', 'Konkan': 'Green', 'Nagpur': 'Blue'}\n",
      "Solution 5: {'Nashik': 'Green', 'Amravati': 'Blue', 'Aurangabad': 'Red', 'Pune': 'Blue', 'Konkan': 'Red', 'Nagpur': 'Red'}\n",
      "Solution 6: {'Nashik': 'Green', 'Amravati': 'Blue', 'Aurangabad': 'Red', 'Pune': 'Blue', 'Konkan': 'Red', 'Nagpur': 'Green'}\n",
      "Solution 7: {'Nashik': 'Green', 'Amravati': 'Red', 'Aurangabad': 'Blue', 'Pune': 'Red', 'Konkan': 'Blue', 'Nagpur': 'Blue'}\n",
      "Solution 8: {'Nashik': 'Green', 'Amravati': 'Red', 'Aurangabad': 'Blue', 'Pune': 'Red', 'Konkan': 'Blue', 'Nagpur': 'Green'}\n",
      "Solution 9: {'Nashik': 'Red', 'Amravati': 'Green', 'Aurangabad': 'Blue', 'Pune': 'Green', 'Konkan': 'Blue', 'Nagpur': 'Red'}\n",
      "Solution 10: {'Nashik': 'Red', 'Amravati': 'Green', 'Aurangabad': 'Blue', 'Pune': 'Green', 'Konkan': 'Blue', 'Nagpur': 'Blue'}\n",
      "Solution 11: {'Nashik': 'Red', 'Amravati': 'Blue', 'Aurangabad': 'Green', 'Pune': 'Blue', 'Konkan': 'Green', 'Nagpur': 'Green'}\n",
      "Solution 12: {'Nashik': 'Red', 'Amravati': 'Blue', 'Aurangabad': 'Green', 'Pune': 'Blue', 'Konkan': 'Green', 'Nagpur': 'Red'}\n"
     ]
    }
   ],
   "source": [
    "for i, solution in enumerate(solver, start=1):\n",
    "    print(f\"Solution {i}: {solution}\")"
   ]
  },
  {
   "cell_type": "code",
   "execution_count": 6,
   "id": "38ba24f0",
   "metadata": {},
   "outputs": [
    {
     "data": {
      "text/plain": [
       "[{'Nashik': 'Blue',\n",
       "  'Amravati': 'Green',\n",
       "  'Aurangabad': 'Red',\n",
       "  'Pune': 'Green',\n",
       "  'Konkan': 'Red',\n",
       "  'Nagpur': 'Blue'},\n",
       " {'Nashik': 'Blue',\n",
       "  'Amravati': 'Green',\n",
       "  'Aurangabad': 'Red',\n",
       "  'Pune': 'Green',\n",
       "  'Konkan': 'Red',\n",
       "  'Nagpur': 'Red'},\n",
       " {'Nashik': 'Blue',\n",
       "  'Amravati': 'Red',\n",
       "  'Aurangabad': 'Green',\n",
       "  'Pune': 'Red',\n",
       "  'Konkan': 'Green',\n",
       "  'Nagpur': 'Green'},\n",
       " {'Nashik': 'Blue',\n",
       "  'Amravati': 'Red',\n",
       "  'Aurangabad': 'Green',\n",
       "  'Pune': 'Red',\n",
       "  'Konkan': 'Green',\n",
       "  'Nagpur': 'Blue'},\n",
       " {'Nashik': 'Green',\n",
       "  'Amravati': 'Blue',\n",
       "  'Aurangabad': 'Red',\n",
       "  'Pune': 'Blue',\n",
       "  'Konkan': 'Red',\n",
       "  'Nagpur': 'Red'},\n",
       " {'Nashik': 'Green',\n",
       "  'Amravati': 'Blue',\n",
       "  'Aurangabad': 'Red',\n",
       "  'Pune': 'Blue',\n",
       "  'Konkan': 'Red',\n",
       "  'Nagpur': 'Green'},\n",
       " {'Nashik': 'Green',\n",
       "  'Amravati': 'Red',\n",
       "  'Aurangabad': 'Blue',\n",
       "  'Pune': 'Red',\n",
       "  'Konkan': 'Blue',\n",
       "  'Nagpur': 'Blue'},\n",
       " {'Nashik': 'Green',\n",
       "  'Amravati': 'Red',\n",
       "  'Aurangabad': 'Blue',\n",
       "  'Pune': 'Red',\n",
       "  'Konkan': 'Blue',\n",
       "  'Nagpur': 'Green'},\n",
       " {'Nashik': 'Red',\n",
       "  'Amravati': 'Green',\n",
       "  'Aurangabad': 'Blue',\n",
       "  'Pune': 'Green',\n",
       "  'Konkan': 'Blue',\n",
       "  'Nagpur': 'Red'},\n",
       " {'Nashik': 'Red',\n",
       "  'Amravati': 'Green',\n",
       "  'Aurangabad': 'Blue',\n",
       "  'Pune': 'Green',\n",
       "  'Konkan': 'Blue',\n",
       "  'Nagpur': 'Blue'},\n",
       " {'Nashik': 'Red',\n",
       "  'Amravati': 'Blue',\n",
       "  'Aurangabad': 'Green',\n",
       "  'Pune': 'Blue',\n",
       "  'Konkan': 'Green',\n",
       "  'Nagpur': 'Green'},\n",
       " {'Nashik': 'Red',\n",
       "  'Amravati': 'Blue',\n",
       "  'Aurangabad': 'Green',\n",
       "  'Pune': 'Blue',\n",
       "  'Konkan': 'Green',\n",
       "  'Nagpur': 'Red'}]"
      ]
     },
     "execution_count": 6,
     "metadata": {},
     "output_type": "execute_result"
    }
   ],
   "source": [
    "solver"
   ]
  },
  {
   "cell_type": "code",
   "execution_count": null,
   "id": "4439be95",
   "metadata": {},
   "outputs": [],
   "source": []
  }
 ],
 "metadata": {
  "kernelspec": {
   "display_name": "Python 3 (ipykernel)",
   "language": "python",
   "name": "python3"
  },
  "language_info": {
   "codemirror_mode": {
    "name": "ipython",
    "version": 3
   },
   "file_extension": ".py",
   "mimetype": "text/x-python",
   "name": "python",
   "nbconvert_exporter": "python",
   "pygments_lexer": "ipython3",
   "version": "3.10.9"
  }
 },
 "nbformat": 4,
 "nbformat_minor": 5
}
